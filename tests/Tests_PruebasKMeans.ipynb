{
 "cells": [
  {
   "cell_type": "code",
   "execution_count": 1,
   "id": "6cdbf9ce",
   "metadata": {},
   "outputs": [],
   "source": [
    " #Pruebas de TeamMaker\n",
    "# importing the sys module\n",
    "import sys        \n",
    " \n",
    "# appending the directory of mod.py\n",
    "# in the sys.path list\n",
    "sys.path.append('C:/Users/fteje/Documents/Code/aicolearn/aicolearn/')       \n",
    " \n",
    "# now we can import mod\n",
    "import teammaker  \n",
    "import numpy as np \n",
    "from sklearn.cluster import KMeans\n",
    "\n",
    " \n"
   ]
  },
  {
   "cell_type": "code",
   "execution_count": 2,
   "id": "6fb78c11",
   "metadata": {},
   "outputs": [],
   "source": [
    "# Definimos un array de características numéricas:\n",
    "# Alumno 1, Alumno 2, Alumno 3, Alumno 4, Alumno 5, Alumno 6, Alumno 7, Alumno 8\n",
    "NombresAlumnos = [\"Alumno 1\",\"Alumno 2\",\"Alumno 3\",\"Alumno 4\",\"Alumno 5\",\"Alumno 6\",\"Alumno 7\",\"Alumno 8\"]"
   ]
  },
  {
   "cell_type": "code",
   "execution_count": 3,
   "id": "5babf353",
   "metadata": {},
   "outputs": [
    {
     "data": {
      "text/plain": [
       "['Alumno 1',\n",
       " 'Alumno 2',\n",
       " 'Alumno 3',\n",
       " 'Alumno 4',\n",
       " 'Alumno 5',\n",
       " 'Alumno 6',\n",
       " 'Alumno 7',\n",
       " 'Alumno 8']"
      ]
     },
     "execution_count": 3,
     "metadata": {},
     "output_type": "execute_result"
    }
   ],
   "source": [
    "NombresAlumnos"
   ]
  },
  {
   "cell_type": "code",
   "execution_count": 4,
   "id": "4d8c62a6",
   "metadata": {},
   "outputs": [],
   "source": [
    "# Creamos las cabeceras\n",
    "Caracteristicas = [\"Edad\",\"Sexo\",\"NotaMedia\"]\n",
    "\n",
    "# Creamos los tipos de alumnos\n",
    "DatosTipoAlumno1 = [23,1,9.8]\n",
    "DatosTipoAlumno2 = [19,0,5.5]\n",
    "DatosTipoAlumno3 = [20,1,7.0]\n",
    "\n",
    "# Creamos la lista de alumnos\n",
    "AlumnosTipo = [DatosTipoAlumno1,DatosTipoAlumno2,DatosTipoAlumno3,DatosTipoAlumno1,DatosTipoAlumno2,DatosTipoAlumno3,DatosTipoAlumno1,DatosTipoAlumno2]"
   ]
  },
  {
   "cell_type": "code",
   "execution_count": 5,
   "id": "29a424e0",
   "metadata": {},
   "outputs": [
    {
     "data": {
      "text/plain": [
       "[[23, 1, 9.8],\n",
       " [19, 0, 5.5],\n",
       " [20, 1, 7.0],\n",
       " [23, 1, 9.8],\n",
       " [19, 0, 5.5],\n",
       " [20, 1, 7.0],\n",
       " [23, 1, 9.8],\n",
       " [19, 0, 5.5]]"
      ]
     },
     "execution_count": 5,
     "metadata": {},
     "output_type": "execute_result"
    }
   ],
   "source": [
    "# Creamos el array de pruebas de alumnos\n",
    "AlumnosTipo"
   ]
  },
  {
   "cell_type": "code",
   "execution_count": 6,
   "id": "453f28ae",
   "metadata": {},
   "outputs": [],
   "source": [
    "npAlumnos = np.array(AlumnosTipo)"
   ]
  },
  {
   "cell_type": "code",
   "execution_count": 7,
   "id": "4c8b4176",
   "metadata": {},
   "outputs": [
    {
     "data": {
      "text/plain": [
       "array([[23. ,  1. ,  9.8],\n",
       "       [19. ,  0. ,  5.5],\n",
       "       [20. ,  1. ,  7. ],\n",
       "       [23. ,  1. ,  9.8],\n",
       "       [19. ,  0. ,  5.5],\n",
       "       [20. ,  1. ,  7. ],\n",
       "       [23. ,  1. ,  9.8],\n",
       "       [19. ,  0. ,  5.5]])"
      ]
     },
     "execution_count": 7,
     "metadata": {},
     "output_type": "execute_result"
    }
   ],
   "source": [
    "npAlumnos"
   ]
  },
  {
   "cell_type": "code",
   "execution_count": 169,
   "id": "860960ed",
   "metadata": {},
   "outputs": [
    {
     "name": "stderr",
     "output_type": "stream",
     "text": [
      "C:\\Users\\fteje\\anaconda3\\envs\\DesarrolloDjango\\Lib\\site-packages\\sklearn\\cluster\\_kmeans.py:1382: UserWarning: KMeans is known to have a memory leak on Windows with MKL, when there are less chunks than available threads. You can avoid it by setting the environment variable OMP_NUM_THREADS=1.\n",
      "  warnings.warn(\n"
     ]
    }
   ],
   "source": [
    "# Vamos a buscar 3 clusters\n",
    "KM = KMeans(n_clusters=2, init='k-means++', random_state=0, n_init=\"auto\").fit(npAlumnos)\n"
   ]
  },
  {
   "cell_type": "code",
   "execution_count": 170,
   "id": "eea8f24f",
   "metadata": {},
   "outputs": [],
   "source": [
    "centroides = KM.cluster_centers_"
   ]
  },
  {
   "cell_type": "code",
   "execution_count": 171,
   "id": "29fcd3ae",
   "metadata": {},
   "outputs": [
    {
     "data": {
      "text/plain": [
       "array([[19.4,  0.4,  6.1],\n",
       "       [23. ,  1. ,  9.8]])"
      ]
     },
     "execution_count": 171,
     "metadata": {},
     "output_type": "execute_result"
    }
   ],
   "source": [
    "centroides"
   ]
  },
  {
   "cell_type": "code",
   "execution_count": 172,
   "id": "8fc49adc",
   "metadata": {},
   "outputs": [
    {
     "data": {
      "text/plain": [
       "array(['kmeans0', 'kmeans1'], dtype=object)"
      ]
     },
     "execution_count": 172,
     "metadata": {},
     "output_type": "execute_result"
    }
   ],
   "source": [
    "KM.get_feature_names_out()"
   ]
  },
  {
   "cell_type": "code",
   "execution_count": 173,
   "id": "72bbace6",
   "metadata": {},
   "outputs": [
    {
     "data": {
      "text/plain": [
       "3"
      ]
     },
     "execution_count": 173,
     "metadata": {},
     "output_type": "execute_result"
    }
   ],
   "source": [
    "#Número de características tenidas en cuenta\n",
    "KM.n_features_in_"
   ]
  },
  {
   "cell_type": "code",
   "execution_count": 174,
   "id": "41563b61",
   "metadata": {},
   "outputs": [
    {
     "data": {
      "text/plain": [
       "array([1, 0, 0, 1, 0, 0, 1, 0])"
      ]
     },
     "execution_count": 174,
     "metadata": {},
     "output_type": "execute_result"
    }
   ],
   "source": [
    "KM.labels_"
   ]
  },
  {
   "cell_type": "code",
   "execution_count": 175,
   "id": "f751b13d",
   "metadata": {
    "scrolled": true
   },
   "outputs": [
    {
     "data": {
      "text/plain": [
       "array([0])"
      ]
     },
     "execution_count": 175,
     "metadata": {},
     "output_type": "execute_result"
    }
   ],
   "source": [
    "#Vamos a hacer una predicción\n",
    "KM.predict([[19. ,  0. ,  5.5]])"
   ]
  },
  {
   "cell_type": "code",
   "execution_count": null,
   "id": "7304053e",
   "metadata": {},
   "outputs": [],
   "source": []
  }
 ],
 "metadata": {
  "kernelspec": {
   "display_name": "Python 3 (ipykernel)",
   "language": "python",
   "name": "python3"
  },
  "language_info": {
   "codemirror_mode": {
    "name": "ipython",
    "version": 3
   },
   "file_extension": ".py",
   "mimetype": "text/x-python",
   "name": "python",
   "nbconvert_exporter": "python",
   "pygments_lexer": "ipython3",
   "version": "3.11.3"
  }
 },
 "nbformat": 4,
 "nbformat_minor": 5
}
