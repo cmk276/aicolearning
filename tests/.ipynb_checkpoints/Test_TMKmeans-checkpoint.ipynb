{
 "cells": [
  {
   "cell_type": "code",
   "execution_count": 1,
   "id": "83a3321f",
   "metadata": {},
   "outputs": [],
   "source": [
    " #Pruebas de TeamMaker->TMKMeans\n",
    "# importing the sys module\n",
    "import sys  \n",
    "\n",
    "# appending the directory of mod.py\n",
    "# in the sys.path list\n",
    "sys.path.append('C:/Users/fteje/Documents/Code/aicolearn/aicolearn/')       \n",
    " \n",
    "# now we can import mod\n",
    "import teammaker  \n",
    "import numpy as np \n",
    "import pandas as pd\n",
    "from pandas.api.types import CategoricalDtype"
   ]
  },
  {
   "cell_type": "code",
   "execution_count": 2,
   "id": "1d23eb52",
   "metadata": {},
   "outputs": [],
   "source": [
    "# Creamos las cabeceras\n",
    "Caracteristicas = [\"Edad\",\"Sexo\",\"NotaMedia\"]\n",
    "\n",
    "# Creamos los tipos de alumnos\n",
    "DatosTipoAlumno1 = [23,\"Hombre\",9.8]\n",
    "DatosTipoAlumno2 = [19,np.nan,np.nan]\n",
    "DatosTipoAlumno3 = [20,\"Mujer\",7.0]\n",
    "\n",
    "# Creamos la lista de alumnos\n",
    "AlumnosTipo = [DatosTipoAlumno1,DatosTipoAlumno2,DatosTipoAlumno3,DatosTipoAlumno1,DatosTipoAlumno2,DatosTipoAlumno3,DatosTipoAlumno1,DatosTipoAlumno2]"
   ]
  },
  {
   "cell_type": "code",
   "execution_count": 3,
   "id": "4f8d6bc3",
   "metadata": {},
   "outputs": [
    {
     "data": {
      "text/plain": [
       "[[23, 'Hombre', 9.8],\n",
       " [19, nan, nan],\n",
       " [20, 'Mujer', 7.0],\n",
       " [23, 'Hombre', 9.8],\n",
       " [19, nan, nan],\n",
       " [20, 'Mujer', 7.0],\n",
       " [23, 'Hombre', 9.8],\n",
       " [19, nan, nan]]"
      ]
     },
     "execution_count": 3,
     "metadata": {},
     "output_type": "execute_result"
    }
   ],
   "source": [
    "AlumnosTipo"
   ]
  },
  {
   "cell_type": "code",
   "execution_count": 4,
   "id": "b14456d1",
   "metadata": {},
   "outputs": [
    {
     "name": "stdout",
     "output_type": "stream",
     "text": [
      "Empty DataFrame\n",
      "Columns: [Edad, Sexo, NotaMedia, Preferencia, Navegador, Distancia]\n",
      "Index: []\n"
     ]
    },
    {
     "ename": "NameError",
     "evalue": "name 'nan' is not defined",
     "output_type": "error",
     "traceback": [
      "\u001b[1;31m---------------------------------------------------------------------------\u001b[0m",
      "\u001b[1;31mNameError\u001b[0m                                 Traceback (most recent call last)",
      "Cell \u001b[1;32mIn[4], line 16\u001b[0m\n\u001b[0;32m     14\u001b[0m dAlumnos[\u001b[38;5;124m\"\u001b[39m\u001b[38;5;124mSexo\u001b[39m\u001b[38;5;124m\"\u001b[39m] \u001b[38;5;241m=\u001b[39m [\u001b[38;5;124m\"\u001b[39m\u001b[38;5;124mHombre\u001b[39m\u001b[38;5;124m\"\u001b[39m,\u001b[38;5;124m\"\u001b[39m\u001b[38;5;124mMujer\u001b[39m\u001b[38;5;124m\"\u001b[39m,\u001b[38;5;124m\"\u001b[39m\u001b[38;5;124mHombre\u001b[39m\u001b[38;5;124m\"\u001b[39m,\u001b[38;5;124m\"\u001b[39m\u001b[38;5;124mHombre\u001b[39m\u001b[38;5;124m\"\u001b[39m,\u001b[38;5;124m\"\u001b[39m\u001b[38;5;124mMujer\u001b[39m\u001b[38;5;124m\"\u001b[39m,\u001b[38;5;124m\"\u001b[39m\u001b[38;5;124mHombre\u001b[39m\u001b[38;5;124m\"\u001b[39m,\u001b[38;5;124m\"\u001b[39m\u001b[38;5;124mHombre\u001b[39m\u001b[38;5;124m\"\u001b[39m,\u001b[38;5;124m\"\u001b[39m\u001b[38;5;124mMujer\u001b[39m\u001b[38;5;124m\"\u001b[39m]\n\u001b[0;32m     15\u001b[0m dAlumnos[\u001b[38;5;124m\"\u001b[39m\u001b[38;5;124mNotaMedia\u001b[39m\u001b[38;5;124m\"\u001b[39m] \u001b[38;5;241m=\u001b[39m [\u001b[38;5;241m9.8\u001b[39m,\u001b[38;5;241m5.0\u001b[39m,\u001b[38;5;241m7.0\u001b[39m,\u001b[38;5;241m9.8\u001b[39m,\u001b[38;5;241m5.0\u001b[39m,\u001b[38;5;241m7.0\u001b[39m,\u001b[38;5;241m9.8\u001b[39m,\u001b[38;5;241m5.0\u001b[39m]\n\u001b[1;32m---> 16\u001b[0m dAlumnos[\u001b[38;5;124m\"\u001b[39m\u001b[38;5;124mPreferencia\u001b[39m\u001b[38;5;124m\"\u001b[39m] \u001b[38;5;241m=\u001b[39m [\u001b[38;5;241m1\u001b[39m,\u001b[38;5;241m3\u001b[39m,\u001b[38;5;241m2\u001b[39m,\u001b[38;5;241m1\u001b[39m,nan,\u001b[38;5;241m2\u001b[39m,\u001b[38;5;241m1\u001b[39m,\u001b[38;5;241m3\u001b[39m]\n\u001b[0;32m     17\u001b[0m dAlumnos[\u001b[38;5;124m\"\u001b[39m\u001b[38;5;124mNavegador\u001b[39m\u001b[38;5;124m\"\u001b[39m] \u001b[38;5;241m=\u001b[39m [\u001b[38;5;124m\"\u001b[39m\u001b[38;5;124mChrome\u001b[39m\u001b[38;5;124m\"\u001b[39m,\u001b[38;5;124m\"\u001b[39m\u001b[38;5;124mFirefox\u001b[39m\u001b[38;5;124m\"\u001b[39m,\u001b[38;5;124m\"\u001b[39m\u001b[38;5;124mSafari\u001b[39m\u001b[38;5;124m\"\u001b[39m,\u001b[38;5;124m\"\u001b[39m\u001b[38;5;124mChrome\u001b[39m\u001b[38;5;124m\"\u001b[39m,\u001b[38;5;124m\"\u001b[39m\u001b[38;5;124mFirefox\u001b[39m\u001b[38;5;124m\"\u001b[39m,nan,\u001b[38;5;124m\"\u001b[39m\u001b[38;5;124mChrome\u001b[39m\u001b[38;5;124m\"\u001b[39m,\u001b[38;5;124m\"\u001b[39m\u001b[38;5;124mFirefox\u001b[39m\u001b[38;5;124m\"\u001b[39m]\n\u001b[0;32m     18\u001b[0m dAlumnos[\u001b[38;5;124m\"\u001b[39m\u001b[38;5;124mDistancia\u001b[39m\u001b[38;5;124m\"\u001b[39m] \u001b[38;5;241m=\u001b[39m [\u001b[38;5;124m\"\u001b[39m\u001b[38;5;124m1Km\u001b[39m\u001b[38;5;124m\"\u001b[39m,\u001b[38;5;124m\"\u001b[39m\u001b[38;5;124m2Km\u001b[39m\u001b[38;5;124m\"\u001b[39m,\u001b[38;5;124m\"\u001b[39m\u001b[38;5;124m3Km\u001b[39m\u001b[38;5;124m\"\u001b[39m,\u001b[38;5;124m\"\u001b[39m\u001b[38;5;124m1Km\u001b[39m\u001b[38;5;124m\"\u001b[39m,\u001b[38;5;124m\"\u001b[39m\u001b[38;5;124m2Km\u001b[39m\u001b[38;5;124m\"\u001b[39m,\u001b[38;5;124m\"\u001b[39m\u001b[38;5;124m3Km\u001b[39m\u001b[38;5;124m\"\u001b[39m,\u001b[38;5;124m\"\u001b[39m\u001b[38;5;124m1Km\u001b[39m\u001b[38;5;124m\"\u001b[39m,\u001b[38;5;124m\"\u001b[39m\u001b[38;5;124m2Km\u001b[39m\u001b[38;5;124m\"\u001b[39m]\n",
      "\u001b[1;31mNameError\u001b[0m: name 'nan' is not defined"
     ]
    }
   ],
   "source": [
    "# Creamos el panda\n",
    "tipoDato = pd.CategoricalDtype(categories=[\"Hombre\", \"Mujer\"], ordered=False)\n",
    "dAlumnos = pd.DataFrame (columns=[\n",
    "        \"Edad\",\n",
    "        \"Sexo\",\n",
    "        \"NotaMedia\",\n",
    "        \"Preferencia\",\n",
    "        \"Navegador\",\n",
    "        \"Distancia\"\n",
    "])\n",
    "print (dAlumnos)\n",
    "\n",
    "dAlumnos[\"Edad\"] = [23,19,20,23,19,20,23,19]\n",
    "dAlumnos[\"Sexo\"] = [\"Hombre\",\"Mujer\",\"Hombre\",\"Hombre\",\"Mujer\",\"Hombre\",\"Hombre\",\"Mujer\"]\n",
    "dAlumnos[\"NotaMedia\"] = [9.8,5.0,7.0,9.8,5.0,7.0,9.8,5.0]\n",
    "dAlumnos[\"Preferencia\"] = [1,3,2,1,np.nan,2,1,3]\n",
    "dAlumnos[\"Navegador\"] = [\"Chrome\",\"Firefox\",\"Safari\",\"Chrome\",\"Firefox\",np.nan,\"Chrome\",\"Firefox\"]\n",
    "dAlumnos[\"Distancia\"] = [\"1Km\",\"2Km\",\"3Km\",\"1Km\",\"2Km\",\"3Km\",\"1Km\",\"2Km\"]\n",
    "\n",
    "\n",
    "print(\"Cambiamos la categoría de SEXO, Preferencia, Navegador y Distancia\")\n",
    "dAlumnos[\"Sexo\"] = pd.Categorical(dAlumnos[\"Sexo\"], ordered=False, categories=[\"Hombre\",\"Mujer\"])\n",
    "dAlumnos[\"Preferencia\"] = pd.Categorical(dAlumnos[\"Preferencia\"], ordered=True, categories=[3,2,1])\n",
    "dAlumnos[\"Navegador\"] = pd.Categorical(dAlumnos[\"Navegador\"], ordered=False, categories=[\"Chrome\",\"Firefox\",\"Safari\"])\n",
    "dAlumnos[\"Distancia\"] = pd.Categorical(dAlumnos[\"Distancia\"], ordered=True, categories=[\"3Km\",\"2Km\",\"1Km\"])\n",
    "\n",
    "print (dAlumnos)"
   ]
  },
  {
   "cell_type": "code",
   "execution_count": 5,
   "id": "c20f3ab2",
   "metadata": {},
   "outputs": [],
   "source": [
    "#Creamos un objeto TMRandom\n",
    "TMK = teammaker.TMKmeans(dAlumnos)"
   ]
  },
  {
   "cell_type": "code",
   "execution_count": null,
   "id": "0432a6f9",
   "metadata": {},
   "outputs": [],
   "source": []
  },
  {
   "cell_type": "code",
   "execution_count": 6,
   "id": "6f330e06",
   "metadata": {},
   "outputs": [
    {
     "data": {
      "text/html": [
       "<div>\n",
       "<style scoped>\n",
       "    .dataframe tbody tr th:only-of-type {\n",
       "        vertical-align: middle;\n",
       "    }\n",
       "\n",
       "    .dataframe tbody tr th {\n",
       "        vertical-align: top;\n",
       "    }\n",
       "\n",
       "    .dataframe thead th {\n",
       "        text-align: right;\n",
       "    }\n",
       "</style>\n",
       "<table border=\"1\" class=\"dataframe\">\n",
       "  <thead>\n",
       "    <tr style=\"text-align: right;\">\n",
       "      <th></th>\n",
       "      <th>Edad</th>\n",
       "      <th>Sexo</th>\n",
       "      <th>NotaMedia</th>\n",
       "      <th>Preferencia</th>\n",
       "      <th>Navegador</th>\n",
       "      <th>Distancia</th>\n",
       "    </tr>\n",
       "  </thead>\n",
       "  <tbody>\n",
       "    <tr>\n",
       "      <th>0</th>\n",
       "      <td>23</td>\n",
       "      <td>Hombre</td>\n",
       "      <td>9.8</td>\n",
       "      <td>1</td>\n",
       "      <td>Chrome</td>\n",
       "      <td>1Km</td>\n",
       "    </tr>\n",
       "    <tr>\n",
       "      <th>1</th>\n",
       "      <td>19</td>\n",
       "      <td>Mujer</td>\n",
       "      <td>5.0</td>\n",
       "      <td>3</td>\n",
       "      <td>Firefox</td>\n",
       "      <td>2Km</td>\n",
       "    </tr>\n",
       "    <tr>\n",
       "      <th>2</th>\n",
       "      <td>20</td>\n",
       "      <td>Hombre</td>\n",
       "      <td>7.0</td>\n",
       "      <td>2</td>\n",
       "      <td>Safari</td>\n",
       "      <td>3Km</td>\n",
       "    </tr>\n",
       "    <tr>\n",
       "      <th>3</th>\n",
       "      <td>23</td>\n",
       "      <td>Hombre</td>\n",
       "      <td>9.8</td>\n",
       "      <td>1</td>\n",
       "      <td>Chrome</td>\n",
       "      <td>1Km</td>\n",
       "    </tr>\n",
       "    <tr>\n",
       "      <th>4</th>\n",
       "      <td>19</td>\n",
       "      <td>Mujer</td>\n",
       "      <td>5.0</td>\n",
       "      <td>3</td>\n",
       "      <td>Firefox</td>\n",
       "      <td>2Km</td>\n",
       "    </tr>\n",
       "    <tr>\n",
       "      <th>5</th>\n",
       "      <td>20</td>\n",
       "      <td>Hombre</td>\n",
       "      <td>7.0</td>\n",
       "      <td>2</td>\n",
       "      <td>Safari</td>\n",
       "      <td>3Km</td>\n",
       "    </tr>\n",
       "    <tr>\n",
       "      <th>6</th>\n",
       "      <td>23</td>\n",
       "      <td>Hombre</td>\n",
       "      <td>9.8</td>\n",
       "      <td>1</td>\n",
       "      <td>Chrome</td>\n",
       "      <td>1Km</td>\n",
       "    </tr>\n",
       "    <tr>\n",
       "      <th>7</th>\n",
       "      <td>19</td>\n",
       "      <td>Mujer</td>\n",
       "      <td>5.0</td>\n",
       "      <td>3</td>\n",
       "      <td>Firefox</td>\n",
       "      <td>2Km</td>\n",
       "    </tr>\n",
       "  </tbody>\n",
       "</table>\n",
       "</div>"
      ],
      "text/plain": [
       "   Edad    Sexo  NotaMedia Preferencia Navegador Distancia\n",
       "0    23  Hombre        9.8           1    Chrome       1Km\n",
       "1    19   Mujer        5.0           3   Firefox       2Km\n",
       "2    20  Hombre        7.0           2    Safari       3Km\n",
       "3    23  Hombre        9.8           1    Chrome       1Km\n",
       "4    19   Mujer        5.0           3   Firefox       2Km\n",
       "5    20  Hombre        7.0           2    Safari       3Km\n",
       "6    23  Hombre        9.8           1    Chrome       1Km\n",
       "7    19   Mujer        5.0           3   Firefox       2Km"
      ]
     },
     "execution_count": 6,
     "metadata": {},
     "output_type": "execute_result"
    }
   ],
   "source": [
    "TMK.alumnos"
   ]
  },
  {
   "cell_type": "code",
   "execution_count": 7,
   "id": "1f474c23",
   "metadata": {},
   "outputs": [
    {
     "name": "stdout",
     "output_type": "stream",
     "text": [
      "Alumnos antes de transformar    Edad    Sexo  NotaMedia Preferencia Navegador Distancia\n",
      "0    23  Hombre        9.8           1    Chrome       1Km\n",
      "1    19   Mujer        5.0           3   Firefox       2Km\n",
      "2    20  Hombre        7.0           2    Safari       3Km\n",
      "3    23  Hombre        9.8           1    Chrome       1Km\n",
      "4    19   Mujer        5.0           3   Firefox       2Km\n",
      "5    20  Hombre        7.0           2    Safari       3Km\n",
      "6    23  Hombre        9.8           1    Chrome       1Km\n",
      "7    19   Mujer        5.0           3   Firefox       2Km\n",
      "Tamaño del dataset 6\n"
     ]
    },
    {
     "ename": "AttributeError",
     "evalue": "'numpy.ndarray' object has no attribute 'columns'",
     "output_type": "error",
     "traceback": [
      "\u001b[1;31m---------------------------------------------------------------------------\u001b[0m",
      "\u001b[1;31mAttributeError\u001b[0m                            Traceback (most recent call last)",
      "Cell \u001b[1;32mIn[7], line 2\u001b[0m\n\u001b[0;32m      1\u001b[0m \u001b[38;5;66;03m# Crea equipos con un número de alumnos\u001b[39;00m\n\u001b[1;32m----> 2\u001b[0m TMK\u001b[38;5;241m.\u001b[39mcreaEquipos(\u001b[38;5;241m3\u001b[39m)\n",
      "File \u001b[1;32mC:\\Users/fteje/Documents/Code/aicolearn/aicolearn\\teammaker.py:286\u001b[0m, in \u001b[0;36mTMKmeans.creaEquipos\u001b[1;34m(self, alumnosxEquipo, tipoAgrupamiento, codificarCategorias)\u001b[0m\n\u001b[0;32m    282\u001b[0m \u001b[38;5;28mself\u001b[39m\u001b[38;5;241m.\u001b[39m_inicializaEquipos(alumnosxEquipo)\n\u001b[0;32m    284\u001b[0m \u001b[38;5;28;01mif\u001b[39;00m codificarCategorias:\n\u001b[0;32m    285\u001b[0m     \u001b[38;5;66;03m# Codificamos las categorías\u001b[39;00m\n\u001b[1;32m--> 286\u001b[0m     alumnosAagrupar \u001b[38;5;241m=\u001b[39m \u001b[38;5;28mself\u001b[39m\u001b[38;5;241m.\u001b[39m_codificarCategorias()\n\u001b[0;32m    287\u001b[0m \u001b[38;5;28;01melse\u001b[39;00m:\n\u001b[0;32m    288\u001b[0m     \u001b[38;5;66;03m# **** Hay que convertirlo a Numpy\u001b[39;00m\n\u001b[0;32m    289\u001b[0m     alumnosAagrupar \u001b[38;5;241m=\u001b[39m \u001b[38;5;28mself\u001b[39m\u001b[38;5;241m.\u001b[39malumnos\n",
      "File \u001b[1;32mC:\\Users/fteje/Documents/Code/aicolearn/aicolearn\\teammaker.py:210\u001b[0m, in \u001b[0;36mTMKmeans._codificarCategorias\u001b[1;34m(self)\u001b[0m\n\u001b[0;32m    207\u001b[0m \u001b[38;5;28mself\u001b[39m\u001b[38;5;241m.\u001b[39malumnos \u001b[38;5;241m=\u001b[39m imp\u001b[38;5;241m.\u001b[39mfit_transform(\u001b[38;5;28mself\u001b[39m\u001b[38;5;241m.\u001b[39malumnos)\n\u001b[0;32m    209\u001b[0m \u001b[38;5;28mprint\u001b[39m (\u001b[38;5;124m\"\u001b[39m\u001b[38;5;124mTamaño del dataset\u001b[39m\u001b[38;5;124m\"\u001b[39m,\u001b[38;5;28mself\u001b[39m\u001b[38;5;241m.\u001b[39malumnos\u001b[38;5;241m.\u001b[39mshape[\u001b[38;5;241m1\u001b[39m])\n\u001b[1;32m--> 210\u001b[0m columnas \u001b[38;5;241m=\u001b[39m \u001b[38;5;28mself\u001b[39m\u001b[38;5;241m.\u001b[39malumnos\u001b[38;5;241m.\u001b[39mcolumns\n\u001b[0;32m    211\u001b[0m \u001b[38;5;28mprint\u001b[39m (\u001b[38;5;124m\"\u001b[39m\u001b[38;5;124mobteniendo columnas\u001b[39m\u001b[38;5;124m\"\u001b[39m, columnas)\n\u001b[0;32m    212\u001b[0m \u001b[38;5;28mprint\u001b[39m (\u001b[38;5;124m\"\u001b[39m\u001b[38;5;124mTipos de las columnas\u001b[39m\u001b[38;5;124m\"\u001b[39m, \u001b[38;5;28mself\u001b[39m\u001b[38;5;241m.\u001b[39malumnos\u001b[38;5;241m.\u001b[39mdtypes)\n",
      "\u001b[1;31mAttributeError\u001b[0m: 'numpy.ndarray' object has no attribute 'columns'"
     ]
    }
   ],
   "source": [
    "# Crea equipos con un número de alumnos\n",
    "TMK.creaEquipos(3)"
   ]
  },
  {
   "cell_type": "code",
   "execution_count": 8,
   "id": "b0803e70",
   "metadata": {},
   "outputs": [
    {
     "data": {
      "text/html": [
       "<div>\n",
       "<style scoped>\n",
       "    .dataframe tbody tr th:only-of-type {\n",
       "        vertical-align: middle;\n",
       "    }\n",
       "\n",
       "    .dataframe tbody tr th {\n",
       "        vertical-align: top;\n",
       "    }\n",
       "\n",
       "    .dataframe thead th {\n",
       "        text-align: right;\n",
       "    }\n",
       "</style>\n",
       "<table border=\"1\" class=\"dataframe\">\n",
       "  <thead>\n",
       "    <tr style=\"text-align: right;\">\n",
       "      <th></th>\n",
       "      <th>Edad</th>\n",
       "      <th>NotaMedia</th>\n",
       "      <th>Preferencia</th>\n",
       "      <th>Distancia</th>\n",
       "      <th>Sexo_Mujer</th>\n",
       "      <th>Navegador_Chrome</th>\n",
       "      <th>Navegador_Firefox</th>\n",
       "      <th>Navegador_Safari</th>\n",
       "    </tr>\n",
       "  </thead>\n",
       "  <tbody>\n",
       "    <tr>\n",
       "      <th>0</th>\n",
       "      <td>23</td>\n",
       "      <td>9.8</td>\n",
       "      <td>0.0</td>\n",
       "      <td>0.0</td>\n",
       "      <td>0.0</td>\n",
       "      <td>1.0</td>\n",
       "      <td>0.0</td>\n",
       "      <td>0.0</td>\n",
       "    </tr>\n",
       "    <tr>\n",
       "      <th>1</th>\n",
       "      <td>19</td>\n",
       "      <td>5.0</td>\n",
       "      <td>2.0</td>\n",
       "      <td>1.0</td>\n",
       "      <td>1.0</td>\n",
       "      <td>0.0</td>\n",
       "      <td>1.0</td>\n",
       "      <td>0.0</td>\n",
       "    </tr>\n",
       "    <tr>\n",
       "      <th>2</th>\n",
       "      <td>20</td>\n",
       "      <td>7.0</td>\n",
       "      <td>1.0</td>\n",
       "      <td>2.0</td>\n",
       "      <td>0.0</td>\n",
       "      <td>0.0</td>\n",
       "      <td>0.0</td>\n",
       "      <td>1.0</td>\n",
       "    </tr>\n",
       "    <tr>\n",
       "      <th>3</th>\n",
       "      <td>23</td>\n",
       "      <td>9.8</td>\n",
       "      <td>0.0</td>\n",
       "      <td>0.0</td>\n",
       "      <td>0.0</td>\n",
       "      <td>1.0</td>\n",
       "      <td>0.0</td>\n",
       "      <td>0.0</td>\n",
       "    </tr>\n",
       "    <tr>\n",
       "      <th>4</th>\n",
       "      <td>19</td>\n",
       "      <td>5.0</td>\n",
       "      <td>2.0</td>\n",
       "      <td>1.0</td>\n",
       "      <td>1.0</td>\n",
       "      <td>0.0</td>\n",
       "      <td>1.0</td>\n",
       "      <td>0.0</td>\n",
       "    </tr>\n",
       "    <tr>\n",
       "      <th>5</th>\n",
       "      <td>20</td>\n",
       "      <td>7.0</td>\n",
       "      <td>1.0</td>\n",
       "      <td>2.0</td>\n",
       "      <td>0.0</td>\n",
       "      <td>0.0</td>\n",
       "      <td>0.0</td>\n",
       "      <td>1.0</td>\n",
       "    </tr>\n",
       "    <tr>\n",
       "      <th>6</th>\n",
       "      <td>23</td>\n",
       "      <td>9.8</td>\n",
       "      <td>0.0</td>\n",
       "      <td>0.0</td>\n",
       "      <td>0.0</td>\n",
       "      <td>1.0</td>\n",
       "      <td>0.0</td>\n",
       "      <td>0.0</td>\n",
       "    </tr>\n",
       "    <tr>\n",
       "      <th>7</th>\n",
       "      <td>19</td>\n",
       "      <td>5.0</td>\n",
       "      <td>2.0</td>\n",
       "      <td>1.0</td>\n",
       "      <td>1.0</td>\n",
       "      <td>0.0</td>\n",
       "      <td>1.0</td>\n",
       "      <td>0.0</td>\n",
       "    </tr>\n",
       "  </tbody>\n",
       "</table>\n",
       "</div>"
      ],
      "text/plain": [
       "   Edad  NotaMedia  Preferencia  Distancia  Sexo_Mujer  Navegador_Chrome  \\\n",
       "0    23        9.8          0.0        0.0         0.0               1.0   \n",
       "1    19        5.0          2.0        1.0         1.0               0.0   \n",
       "2    20        7.0          1.0        2.0         0.0               0.0   \n",
       "3    23        9.8          0.0        0.0         0.0               1.0   \n",
       "4    19        5.0          2.0        1.0         1.0               0.0   \n",
       "5    20        7.0          1.0        2.0         0.0               0.0   \n",
       "6    23        9.8          0.0        0.0         0.0               1.0   \n",
       "7    19        5.0          2.0        1.0         1.0               0.0   \n",
       "\n",
       "   Navegador_Firefox  Navegador_Safari  \n",
       "0                0.0               0.0  \n",
       "1                1.0               0.0  \n",
       "2                0.0               1.0  \n",
       "3                0.0               0.0  \n",
       "4                1.0               0.0  \n",
       "5                0.0               1.0  \n",
       "6                0.0               0.0  \n",
       "7                1.0               0.0  "
      ]
     },
     "execution_count": 8,
     "metadata": {},
     "output_type": "execute_result"
    }
   ],
   "source": [
    "TMK.alumnos"
   ]
  },
  {
   "cell_type": "code",
   "execution_count": 13,
   "id": "bdb273c2",
   "metadata": {},
   "outputs": [
    {
     "ename": "NameError",
     "evalue": "name 'TMR' is not defined",
     "output_type": "error",
     "traceback": [
      "\u001b[1;31m---------------------------------------------------------------------------\u001b[0m",
      "\u001b[1;31mNameError\u001b[0m                                 Traceback (most recent call last)",
      "Cell \u001b[1;32mIn[13], line 1\u001b[0m\n\u001b[1;32m----> 1\u001b[0m TMR\u001b[38;5;241m.\u001b[39malumnosxEquipo\n",
      "\u001b[1;31mNameError\u001b[0m: name 'TMR' is not defined"
     ]
    }
   ],
   "source": [
    "TMR.alumnosxEquipo"
   ]
  },
  {
   "cell_type": "code",
   "execution_count": null,
   "id": "4e26de2c",
   "metadata": {},
   "outputs": [],
   "source": [
    "TMR.equiposGenerados"
   ]
  },
  {
   "cell_type": "code",
   "execution_count": null,
   "id": "3628ed72",
   "metadata": {},
   "outputs": [],
   "source": [
    "TMR._buscaEquipo(5)"
   ]
  },
  {
   "cell_type": "code",
   "execution_count": null,
   "id": "765bbd08",
   "metadata": {},
   "outputs": [],
   "source": [
    "TMR.intercambiaAlumnos(1,3)"
   ]
  },
  {
   "cell_type": "code",
   "execution_count": null,
   "id": "65c94683",
   "metadata": {},
   "outputs": [],
   "source": [
    "TMR.equiposGenerados"
   ]
  },
  {
   "cell_type": "code",
   "execution_count": null,
   "id": "8444442d",
   "metadata": {},
   "outputs": [],
   "source": [
    "TMR.fijaEquipos([0,2])\n",
    "TMR.creaEquipos(100)\n"
   ]
  },
  {
   "cell_type": "code",
   "execution_count": null,
   "id": "b4d39091",
   "metadata": {},
   "outputs": [],
   "source": [
    "TMR.equiposGenerados"
   ]
  },
  {
   "cell_type": "code",
   "execution_count": null,
   "id": "8b39e8cd",
   "metadata": {},
   "outputs": [],
   "source": [
    "TMR.eliminaEquipos()"
   ]
  },
  {
   "cell_type": "code",
   "execution_count": null,
   "id": "33eb4ace",
   "metadata": {},
   "outputs": [],
   "source": [
    "TMR.equiposGenerados"
   ]
  },
  {
   "cell_type": "code",
   "execution_count": null,
   "id": "3a536791",
   "metadata": {},
   "outputs": [],
   "source": [
    "TMR.creaEquipos(4)\n",
    "TMR.equiposGenerados"
   ]
  },
  {
   "cell_type": "code",
   "execution_count": null,
   "id": "e4611b65",
   "metadata": {},
   "outputs": [],
   "source": []
  }
 ],
 "metadata": {
  "kernelspec": {
   "display_name": "Python 3 (ipykernel)",
   "language": "python",
   "name": "python3"
  },
  "language_info": {
   "codemirror_mode": {
    "name": "ipython",
    "version": 3
   },
   "file_extension": ".py",
   "mimetype": "text/x-python",
   "name": "python",
   "nbconvert_exporter": "python",
   "pygments_lexer": "ipython3",
   "version": "3.11.3"
  }
 },
 "nbformat": 4,
 "nbformat_minor": 5
}
