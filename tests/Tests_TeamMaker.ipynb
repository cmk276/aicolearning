{
 "cells": [
  {
   "cell_type": "code",
   "execution_count": 1,
   "id": "83a3321f",
   "metadata": {},
   "outputs": [],
   "source": [
    " #Pruebas de TeamMaker\n",
    "# importing the sys module\n",
    "import sys  \n",
    "\n",
    "# appending the directory of mod.py\n",
    "# in the sys.path list\n",
    "sys.path.append('C:/Users/fteje/Documents/Code/aicolearn/aicolearn/')       \n",
    " \n",
    "# now we can import mod\n",
    "import teammaker  \n",
    "import numpy as np "
   ]
  },
  {
   "cell_type": "code",
   "execution_count": 2,
   "id": "1d23eb52",
   "metadata": {},
   "outputs": [],
   "source": [
    "# Creamos las cabeceras\n",
    "Caracteristicas = [\"Edad\",\"Sexo\",\"NotaMedia\"]\n",
    "\n",
    "# Creamos los tipos de alumnos\n",
    "DatosTipoAlumno1 = [23,1,9.8]\n",
    "DatosTipoAlumno2 = [19,0,5.5]\n",
    "DatosTipoAlumno3 = [20,1,7.0]\n",
    "\n",
    "# Creamos la lista de alumnos\n",
    "AlumnosTipo = [DatosTipoAlumno1,DatosTipoAlumno2,DatosTipoAlumno3,DatosTipoAlumno1,DatosTipoAlumno2,DatosTipoAlumno3,DatosTipoAlumno1,DatosTipoAlumno2]"
   ]
  },
  {
   "cell_type": "code",
   "execution_count": 3,
   "id": "4f8d6bc3",
   "metadata": {},
   "outputs": [
    {
     "data": {
      "text/plain": [
       "[[23, 1, 9.8],\n",
       " [19, 0, 5.5],\n",
       " [20, 1, 7.0],\n",
       " [23, 1, 9.8],\n",
       " [19, 0, 5.5],\n",
       " [20, 1, 7.0],\n",
       " [23, 1, 9.8],\n",
       " [19, 0, 5.5]]"
      ]
     },
     "execution_count": 3,
     "metadata": {},
     "output_type": "execute_result"
    }
   ],
   "source": [
    "AlumnosTipo"
   ]
  },
  {
   "cell_type": "code",
   "execution_count": 4,
   "id": "b14456d1",
   "metadata": {},
   "outputs": [
    {
     "data": {
      "text/plain": [
       "array([[23. ,  1. ,  9.8],\n",
       "       [19. ,  0. ,  5.5],\n",
       "       [20. ,  1. ,  7. ],\n",
       "       [23. ,  1. ,  9.8],\n",
       "       [19. ,  0. ,  5.5],\n",
       "       [20. ,  1. ,  7. ],\n",
       "       [23. ,  1. ,  9.8],\n",
       "       [19. ,  0. ,  5.5]])"
      ]
     },
     "execution_count": 4,
     "metadata": {},
     "output_type": "execute_result"
    }
   ],
   "source": [
    "npAlumnos = np.array(AlumnosTipo)\n",
    "npAlumnos"
   ]
  },
  {
   "cell_type": "code",
   "execution_count": 5,
   "id": "c20f3ab2",
   "metadata": {},
   "outputs": [],
   "source": [
    "#Creamos un objeto TMRandom\n",
    "TMR = teammaker.TMRandom(npAlumnos)"
   ]
  },
  {
   "cell_type": "code",
   "execution_count": 6,
   "id": "6f330e06",
   "metadata": {},
   "outputs": [
    {
     "data": {
      "text/plain": [
       "array([[23. ,  1. ,  9.8],\n",
       "       [19. ,  0. ,  5.5],\n",
       "       [20. ,  1. ,  7. ],\n",
       "       [23. ,  1. ,  9.8],\n",
       "       [19. ,  0. ,  5.5],\n",
       "       [20. ,  1. ,  7. ],\n",
       "       [23. ,  1. ,  9.8],\n",
       "       [19. ,  0. ,  5.5]])"
      ]
     },
     "execution_count": 6,
     "metadata": {},
     "output_type": "execute_result"
    }
   ],
   "source": [
    "TMR.alumnos"
   ]
  },
  {
   "cell_type": "code",
   "execution_count": 7,
   "id": "1f474c23",
   "metadata": {},
   "outputs": [],
   "source": [
    "# Crea equipos con un número de alumnos\n",
    "TMR.creaEquipos(3)"
   ]
  },
  {
   "cell_type": "code",
   "execution_count": 8,
   "id": "b0803e70",
   "metadata": {},
   "outputs": [
    {
     "data": {
      "text/plain": [
       "[[2, 7, 6], [4, 1, 5], [3, 0]]"
      ]
     },
     "execution_count": 8,
     "metadata": {},
     "output_type": "execute_result"
    }
   ],
   "source": [
    "TMR.equiposGenerados"
   ]
  },
  {
   "cell_type": "code",
   "execution_count": 9,
   "id": "bdb273c2",
   "metadata": {},
   "outputs": [
    {
     "data": {
      "text/plain": [
       "3"
      ]
     },
     "execution_count": 9,
     "metadata": {},
     "output_type": "execute_result"
    }
   ],
   "source": [
    "TMR.alumnosxEquipo"
   ]
  },
  {
   "cell_type": "code",
   "execution_count": 10,
   "id": "4e26de2c",
   "metadata": {},
   "outputs": [
    {
     "data": {
      "text/plain": [
       "[[2, 7, 6], [4, 1, 5], [3, 0]]"
      ]
     },
     "execution_count": 10,
     "metadata": {},
     "output_type": "execute_result"
    }
   ],
   "source": [
    "TMR.equiposGenerados"
   ]
  },
  {
   "cell_type": "code",
   "execution_count": 11,
   "id": "3628ed72",
   "metadata": {},
   "outputs": [
    {
     "data": {
      "text/plain": [
       "[1, 2]"
      ]
     },
     "execution_count": 11,
     "metadata": {},
     "output_type": "execute_result"
    }
   ],
   "source": [
    "TMR._buscaEquipo(5)"
   ]
  },
  {
   "cell_type": "code",
   "execution_count": 12,
   "id": "765bbd08",
   "metadata": {},
   "outputs": [],
   "source": [
    "TMR.intercambiaAlumnos(1,3)"
   ]
  },
  {
   "cell_type": "code",
   "execution_count": 13,
   "id": "65c94683",
   "metadata": {},
   "outputs": [
    {
     "data": {
      "text/plain": [
       "[[2, 7, 6], [4, 3, 5], [1, 0]]"
      ]
     },
     "execution_count": 13,
     "metadata": {},
     "output_type": "execute_result"
    }
   ],
   "source": [
    "TMR.equiposGenerados"
   ]
  },
  {
   "cell_type": "code",
   "execution_count": 14,
   "id": "8444442d",
   "metadata": {},
   "outputs": [],
   "source": [
    "TMR.fijaEquipos([0,2])\n",
    "TMR.creaEquipos(100)\n"
   ]
  },
  {
   "cell_type": "code",
   "execution_count": 15,
   "id": "b4d39091",
   "metadata": {},
   "outputs": [
    {
     "data": {
      "text/plain": [
       "[[2, 7, 6], [4, 3, 5], [1, 0]]"
      ]
     },
     "execution_count": 15,
     "metadata": {},
     "output_type": "execute_result"
    }
   ],
   "source": [
    "TMR.equiposGenerados"
   ]
  },
  {
   "cell_type": "code",
   "execution_count": 16,
   "id": "8b39e8cd",
   "metadata": {},
   "outputs": [],
   "source": [
    "TMR.eliminaEquipos()"
   ]
  },
  {
   "cell_type": "code",
   "execution_count": 17,
   "id": "33eb4ace",
   "metadata": {},
   "outputs": [
    {
     "data": {
      "text/plain": [
       "[]"
      ]
     },
     "execution_count": 17,
     "metadata": {},
     "output_type": "execute_result"
    }
   ],
   "source": [
    "TMR.equiposGenerados"
   ]
  },
  {
   "cell_type": "code",
   "execution_count": 18,
   "id": "3a536791",
   "metadata": {},
   "outputs": [
    {
     "data": {
      "text/plain": [
       "[[2, 1, 5, 0], [7, 3, 4, 6]]"
      ]
     },
     "execution_count": 18,
     "metadata": {},
     "output_type": "execute_result"
    }
   ],
   "source": [
    "TMR.creaEquipos(4)\n",
    "TMR.equiposGenerados"
   ]
  },
  {
   "cell_type": "code",
   "execution_count": null,
   "id": "e4611b65",
   "metadata": {},
   "outputs": [],
   "source": []
  }
 ],
 "metadata": {
  "kernelspec": {
   "display_name": "Python 3 (ipykernel)",
   "language": "python",
   "name": "python3"
  },
  "language_info": {
   "codemirror_mode": {
    "name": "ipython",
    "version": 3
   },
   "file_extension": ".py",
   "mimetype": "text/x-python",
   "name": "python",
   "nbconvert_exporter": "python",
   "pygments_lexer": "ipython3",
   "version": "3.11.3"
  }
 },
 "nbformat": 4,
 "nbformat_minor": 5
}
