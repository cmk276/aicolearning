{
 "cells": [
  {
   "cell_type": "code",
   "execution_count": 150,
   "id": "768818bd",
   "metadata": {},
   "outputs": [],
   "source": [
    " #Pruebas de TeamMaker\n",
    "# importing the sys module\n",
    "import sys        \n",
    " \n",
    "# appending the directory of mod.py\n",
    "# in the sys.path list\n",
    "sys.path.append('C:/Users/fteje/Documents/Code/aicolearn/aicolearn/')       \n",
    " \n",
    "# now we can import mod\n",
    "import teammaker  \n",
    "import numpy as np \n",
    "from sklearn.cluster import KMeans\n",
    "\n",
    " \n"
   ]
  },
  {
   "cell_type": "code",
   "execution_count": 151,
   "id": "b07ae9de",
   "metadata": {},
   "outputs": [],
   "source": [
    "# Definimos un array de características numéricas:\n",
    "# Alumno 1, Alumno 2, Alumno 3, Alumno 4, Alumno 5, Alumno 6, Alumno 7, Alumno 8\n",
    "NombresAlumnos = [\"Alumno 1\",\"Alumno 2\",\"Alumno 3\",\"Alumno 4\",\"Alumno 5\",\"Alumno 6\",\"Alumno 7\",\"Alumno 8\"]"
   ]
  },
  {
   "cell_type": "code",
   "execution_count": 152,
   "id": "bb534686",
   "metadata": {},
   "outputs": [
    {
     "data": {
      "text/plain": [
       "['Alumno 1',\n",
       " 'Alumno 2',\n",
       " 'Alumno 3',\n",
       " 'Alumno 4',\n",
       " 'Alumno 5',\n",
       " 'Alumno 6',\n",
       " 'Alumno 7',\n",
       " 'Alumno 8']"
      ]
     },
     "execution_count": 152,
     "metadata": {},
     "output_type": "execute_result"
    }
   ],
   "source": [
    "NombresAlumnos"
   ]
  },
  {
   "cell_type": "code",
   "execution_count": 154,
   "id": "2d994691",
   "metadata": {},
   "outputs": [],
   "source": [
    "# Creamos las cabeceras\n",
    "Caracteristicas = [\"Edad\",\"Sexo\",\"NotaMedia\"]\n",
    "\n",
    "# Creamos los tipos de alumnos\n",
    "DatosTipoAlumno1 = [23,1,9.8]\n",
    "DatosTipoAlumno2 = [19,np.nan,5.5]\n",
    "DatosTipoAlumno3 = [20,1,7.0]\n",
    "\n",
    "# Creamos la lista de alumnos\n",
    "AlumnosTipo = [DatosTipoAlumno1,DatosTipoAlumno2,DatosTipoAlumno3,DatosTipoAlumno1,DatosTipoAlumno2,DatosTipoAlumno3,DatosTipoAlumno1,DatosTipoAlumno2]"
   ]
  },
  {
   "cell_type": "code",
   "execution_count": 138,
   "id": "79cfdbca",
   "metadata": {},
   "outputs": [
    {
     "data": {
      "text/plain": [
       "[[23, 1, 9.8],\n",
       " [19, 0, 5.5],\n",
       " [20, 1, 7.0],\n",
       " [23, 1, 9.8],\n",
       " [19, 0, 5.5],\n",
       " [20, 1, 7.0],\n",
       " [23, 1, 9.8],\n",
       " [19, 0, 5.5]]"
      ]
     },
     "execution_count": 138,
     "metadata": {},
     "output_type": "execute_result"
    }
   ],
   "source": [
    "# Creamos el array de pruebas de alumnos\n",
    "AlumnosTipo"
   ]
  },
  {
   "cell_type": "code",
   "execution_count": 139,
   "id": "3c908e4c",
   "metadata": {},
   "outputs": [],
   "source": [
    "npAlumnos = np.array(AlumnosTipo)"
   ]
  },
  {
   "cell_type": "code",
   "execution_count": 140,
   "id": "e0180ac6",
   "metadata": {},
   "outputs": [
    {
     "data": {
      "text/plain": [
       "array([[23. ,  1. ,  9.8],\n",
       "       [19. ,  0. ,  5.5],\n",
       "       [20. ,  1. ,  7. ],\n",
       "       [23. ,  1. ,  9.8],\n",
       "       [19. ,  0. ,  5.5],\n",
       "       [20. ,  1. ,  7. ],\n",
       "       [23. ,  1. ,  9.8],\n",
       "       [19. ,  0. ,  5.5]])"
      ]
     },
     "execution_count": 140,
     "metadata": {},
     "output_type": "execute_result"
    }
   ],
   "source": [
    "npAlumnos"
   ]
  },
  {
   "cell_type": "code",
   "execution_count": 141,
   "id": "731db7b2",
   "metadata": {},
   "outputs": [
    {
     "name": "stderr",
     "output_type": "stream",
     "text": [
      "C:\\Users\\fteje\\anaconda3\\envs\\DesarrolloDjango\\Lib\\site-packages\\sklearn\\cluster\\_kmeans.py:1382: UserWarning: KMeans is known to have a memory leak on Windows with MKL, when there are less chunks than available threads. You can avoid it by setting the environment variable OMP_NUM_THREADS=1.\n",
      "  warnings.warn(\n"
     ]
    }
   ],
   "source": [
    "# Vamos a buscar 3 clusters\n",
    "KM = KMeans(n_clusters=3, init='k-means++', random_state=0, n_init=\"auto\").fit(npAlumnos)\n"
   ]
  },
  {
   "cell_type": "code",
   "execution_count": 142,
   "id": "5259d300",
   "metadata": {},
   "outputs": [],
   "source": [
    "centroides = KM.cluster_centers_"
   ]
  },
  {
   "cell_type": "code",
   "execution_count": 143,
   "id": "62c5f41d",
   "metadata": {},
   "outputs": [
    {
     "data": {
      "text/plain": [
       "array([[19. ,  0. ,  5.5],\n",
       "       [23. ,  1. ,  9.8],\n",
       "       [20. ,  1. ,  7. ]])"
      ]
     },
     "execution_count": 143,
     "metadata": {},
     "output_type": "execute_result"
    }
   ],
   "source": [
    "centroides"
   ]
  },
  {
   "cell_type": "code",
   "execution_count": 144,
   "id": "de48a2c5",
   "metadata": {},
   "outputs": [
    {
     "data": {
      "text/plain": [
       "array(['kmeans0', 'kmeans1', 'kmeans2'], dtype=object)"
      ]
     },
     "execution_count": 144,
     "metadata": {},
     "output_type": "execute_result"
    }
   ],
   "source": [
    "KM.get_feature_names_out()"
   ]
  },
  {
   "cell_type": "code",
   "execution_count": 145,
   "id": "39c28163",
   "metadata": {},
   "outputs": [
    {
     "data": {
      "text/plain": [
       "3"
      ]
     },
     "execution_count": 145,
     "metadata": {},
     "output_type": "execute_result"
    }
   ],
   "source": [
    "#Número de características tenidas en cuenta\n",
    "KM.n_features_in_"
   ]
  },
  {
   "cell_type": "code",
   "execution_count": 146,
   "id": "88adb3ad",
   "metadata": {},
   "outputs": [
    {
     "data": {
      "text/plain": [
       "array([1, 0, 2, 1, 0, 2, 1, 0])"
      ]
     },
     "execution_count": 146,
     "metadata": {},
     "output_type": "execute_result"
    }
   ],
   "source": [
    "KM.labels_"
   ]
  },
  {
   "cell_type": "code",
   "execution_count": 149,
   "id": "3715d820",
   "metadata": {
    "scrolled": true
   },
   "outputs": [
    {
     "data": {
      "text/plain": [
       "array([0])"
      ]
     },
     "execution_count": 149,
     "metadata": {},
     "output_type": "execute_result"
    }
   ],
   "source": [
    "#Vamos a hacer una predicción\n",
    "KM.predict([[19. ,  0. ,  5.5]])"
   ]
  },
  {
   "cell_type": "code",
   "execution_count": null,
   "id": "faece398",
   "metadata": {},
   "outputs": [],
   "source": []
  }
 ],
 "metadata": {
  "kernelspec": {
   "display_name": "Python 3 (ipykernel)",
   "language": "python",
   "name": "python3"
  },
  "language_info": {
   "codemirror_mode": {
    "name": "ipython",
    "version": 3
   },
   "file_extension": ".py",
   "mimetype": "text/x-python",
   "name": "python",
   "nbconvert_exporter": "python",
   "pygments_lexer": "ipython3",
   "version": "3.11.3"
  }
 },
 "nbformat": 4,
 "nbformat_minor": 5
}
